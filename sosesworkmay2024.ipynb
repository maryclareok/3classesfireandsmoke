{
  "nbformat": 4,
  "nbformat_minor": 0,
  "metadata": {
    "colab": {
      "provenance": [],
      "mount_file_id": "1dEA66HkTNtPr7X4qU58yEYqumvPEPrCa",
      "authorship_tag": "ABX9TyONdBiUCRcFb9qZNBQSQ4Cu",
      "include_colab_link": true
    },
    "kernelspec": {
      "name": "python3",
      "display_name": "Python 3"
    },
    "language_info": {
      "name": "python"
    }
  },
  "cells": [
    {
      "cell_type": "markdown",
      "metadata": {
        "id": "view-in-github",
        "colab_type": "text"
      },
      "source": [
        "<a href=\"https://colab.research.google.com/github/maryclareok/3classesfireandsmoke/blob/main/sosesworkmay2024.ipynb\" target=\"_parent\"><img src=\"https://colab.research.google.com/assets/colab-badge.svg\" alt=\"Open In Colab\"/></a>"
      ]
    },
    {
      "cell_type": "code",
      "source": [
        "# pip install --upgrade tensorflow\n"
      ],
      "metadata": {
        "id": "13N1S8pRWQL8"
      },
      "execution_count": null,
      "outputs": []
    },
    {
      "cell_type": "markdown",
      "source": [
        "This script is performing several steps of a machine learning workflow, including data loading, preprocessing, model training, and prediction. Here's a breakdown:\n",
        "\n",
        "1. **Data Loading**: The script starts by defining the path to the directory where the data files are stored (`dir_path`), and the subdirectories within that directory (`sub_dirs`). It then initializes an empty list (`dfs`) to store the dataframes. The script loops over each subdirectory, and for each .csv file in the subdirectory, it reads the file into a pandas DataFrame and appends it to the list. After all files have been read, it concatenates the dataframes into a single dataframe (`df`).\n",
        "\n",
        "2. **Data Preprocessing**: The script defines the features to be used for clustering (`features`). It then converts non-numeric values in these features to NaN, and drops the rows with NaN values. After that, it scales the features using `StandardScaler` from sklearn, which standardizes the features to have zero mean and unit variance.\n",
        "\n",
        "3. **Model Definition and Training**: The script defines an autoencoder model using Keras. An autoencoder is a type of neural network used for learning efficient codings of input data. It consists of an encoder, which learns a compressed representation of the input data, and a decoder, which learns to reconstruct the original data from the compressed representation. The script defines the size of the compressed representation (`encoding_dim`), the input layer (`input_data`), the encoded layer (`encoded`), and the decoded layer (`decoded`). It then defines the autoencoder model (`autoencoder`), compiles it with the Adadelta optimizer and binary crossentropy loss, and trains it on the scaled features.\n",
        "\n",
        "4. **Dimensionality Reduction**: The script uses the encoder part of the autoencoder to reduce the dimensionality of the data (`X_encoded`).\n",
        "\n",
        "5. **Clustering**: The script creates a KMeans object (`kmeans`) with a specified number of clusters, fits it to the encoded data, and assigns each data point to a cluster (`df['cluster']`).\n",
        "\n",
        "So, in summary, this script is loading data from multiple .csv files, preprocessing the data, training an autoencoder model, using the model to reduce the dimensionality of the data, and applying KMeans clustering to the reduced data."
      ],
      "metadata": {
        "id": "oFfbGY9fhHkk"
      }
    },
    {
      "cell_type": "code",
      "source": [
        "import pandas as pd\n",
        "import os\n",
        "from sklearn.cluster import KMeans\n",
        "from sklearn.preprocessing import StandardScaler\n",
        "from keras.layers import Input, Dense\n",
        "from keras.models import Model\n",
        "\n",
        "# Define the path to the directory\n",
        "dir_path = '/content/drive/MyDrive/5G-production-dataset'  # replace with your directory path\n",
        "\n",
        "# Define the subdirectories\n",
        "sub_dirs = ['Download', 'Netflix', 'Amazon_Prime']\n",
        "\n",
        "# Define the features for clustering\n",
        "features = ['Longitude', 'Latitude', 'RSRP', 'RSRQ', 'SNR', 'CQI', 'RSSI', 'DL_bitrate', 'UL_bitrate']\n",
        "\n",
        "# Initialize a list to store dataframes\n",
        "dfs = []\n",
        "\n",
        "# Loop through each subdirectory\n",
        "for sub_dir in sub_dirs:\n",
        "    # Get the list of .csv files in each subdirectory\n",
        "    csv_files = [f for f in os.listdir(os.path.join(dir_path, sub_dir)) if f.endswith('.csv')]\n",
        "\n",
        "    # Loop through each .csv file\n",
        "    for file in csv_files:\n",
        "        # Read the .csv file into a pandas DataFrame\n",
        "        df = pd.read_csv(os.path.join(dir_path, sub_dir, file))\n",
        "\n",
        "        # Append the dataframe to the list\n",
        "        dfs.append(df)\n",
        "\n",
        "# Concatenate all dataframes\n",
        "df = pd.concat(dfs, ignore_index=True)\n",
        "\n",
        "# Convert non-numeric values to NaN\n",
        "for feature in features:\n",
        "    df[feature] = pd.to_numeric(df[feature], errors='coerce')\n",
        "\n",
        "# Drop the rows with NaN values. Alternatively, you can fill NaN values with a valid numeric value.\n",
        "df = df.dropna()\n",
        "\n",
        "# Preprocess the data (e.g., normalization)\n",
        "scaler = StandardScaler()\n",
        "X = scaler.fit_transform(df[features])\n",
        "\n",
        "# Define the size of the encoded representations\n",
        "encoding_dim = 32  # this is the size of our encoded representations\n",
        "\n",
        "# Define the input layer\n",
        "input_data = Input(shape=(len(features),))\n",
        "\n",
        "# Define the encoded layer\n",
        "encoded = Dense(encoding_dim, activation='relu')(input_data)\n",
        "\n",
        "# Define the decoded layer\n",
        "decoded = Dense(len(features), activation='sigmoid')(encoded)\n",
        "\n",
        "# Define the autoencoder model\n",
        "autoencoder = Model(input_data, decoded)\n",
        "\n",
        "# Compile the autoencoder model\n",
        "autoencoder.compile(optimizer='adadelta', loss='binary_crossentropy')\n",
        "\n",
        "# Train the autoencoder model\n",
        "history = autoencoder.fit(X, X, epochs=50, batch_size=256, shuffle=True)\n",
        "\n",
        "# Use the encoder part of the autoencoder to reduce the dimensionality of the data\n",
        "encoder = Model(input_data, encoded)\n",
        "X_encoded = encoder.predict(X)\n",
        "\n",
        "# Create a KMeans object\n",
        "kmeans = KMeans(n_clusters=3)  # You can change the number of clusters\n",
        "\n",
        "# Fit the model to the encoded data\n",
        "kmeans.fit(X_encoded)\n",
        "\n",
        "# Get the cluster assignments for each data point\n",
        "df['cluster'] = kmeans.labels_\n"
      ],
      "metadata": {
        "id": "QCEvRu6YhG9t",
        "colab": {
          "base_uri": "https://localhost:8080/"
        },
        "outputId": "74d40154-0ac5-4384-9013-d1d1dc07e787"
      },
      "execution_count": 17,
      "outputs": [
        {
          "output_type": "stream",
          "name": "stdout",
          "text": [
            "Epoch 1/50\n",
            "\u001b[1m519/519\u001b[0m \u001b[32m━━━━━━━━━━━━━━━━━━━━\u001b[0m\u001b[37m\u001b[0m \u001b[1m4s\u001b[0m 4ms/step - loss: 0.7555\n",
            "Epoch 2/50\n",
            "\u001b[1m519/519\u001b[0m \u001b[32m━━━━━━━━━━━━━━━━━━━━\u001b[0m\u001b[37m\u001b[0m \u001b[1m5s\u001b[0m 8ms/step - loss: 0.7472\n",
            "Epoch 3/50\n",
            "\u001b[1m519/519\u001b[0m \u001b[32m━━━━━━━━━━━━━━━━━━━━\u001b[0m\u001b[37m\u001b[0m \u001b[1m6s\u001b[0m 10ms/step - loss: 0.7378\n",
            "Epoch 4/50\n",
            "\u001b[1m519/519\u001b[0m \u001b[32m━━━━━━━━━━━━━━━━━━━━\u001b[0m\u001b[37m\u001b[0m \u001b[1m5s\u001b[0m 9ms/step - loss: 0.7261\n",
            "Epoch 5/50\n",
            "\u001b[1m519/519\u001b[0m \u001b[32m━━━━━━━━━━━━━━━━━━━━\u001b[0m\u001b[37m\u001b[0m \u001b[1m4s\u001b[0m 7ms/step - loss: 0.7128\n",
            "Epoch 6/50\n",
            "\u001b[1m519/519\u001b[0m \u001b[32m━━━━━━━━━━━━━━━━━━━━\u001b[0m\u001b[37m\u001b[0m \u001b[1m4s\u001b[0m 6ms/step - loss: 0.7008\n",
            "Epoch 7/50\n",
            "\u001b[1m519/519\u001b[0m \u001b[32m━━━━━━━━━━━━━━━━━━━━\u001b[0m\u001b[37m\u001b[0m \u001b[1m5s\u001b[0m 5ms/step - loss: 0.6881\n",
            "Epoch 8/50\n",
            "\u001b[1m519/519\u001b[0m \u001b[32m━━━━━━━━━━━━━━━━━━━━\u001b[0m\u001b[37m\u001b[0m \u001b[1m3s\u001b[0m 6ms/step - loss: 0.6732\n",
            "Epoch 9/50\n",
            "\u001b[1m519/519\u001b[0m \u001b[32m━━━━━━━━━━━━━━━━━━━━\u001b[0m\u001b[37m\u001b[0m \u001b[1m3s\u001b[0m 2ms/step - loss: 0.6593\n",
            "Epoch 10/50\n",
            "\u001b[1m519/519\u001b[0m \u001b[32m━━━━━━━━━━━━━━━━━━━━\u001b[0m\u001b[37m\u001b[0m \u001b[1m1s\u001b[0m 2ms/step - loss: 0.6448\n",
            "Epoch 11/50\n",
            "\u001b[1m519/519\u001b[0m \u001b[32m━━━━━━━━━━━━━━━━━━━━\u001b[0m\u001b[37m\u001b[0m \u001b[1m1s\u001b[0m 2ms/step - loss: 0.6290\n",
            "Epoch 12/50\n",
            "\u001b[1m519/519\u001b[0m \u001b[32m━━━━━━━━━━━━━━━━━━━━\u001b[0m\u001b[37m\u001b[0m \u001b[1m1s\u001b[0m 2ms/step - loss: 0.6143\n",
            "Epoch 13/50\n",
            "\u001b[1m519/519\u001b[0m \u001b[32m━━━━━━━━━━━━━━━━━━━━\u001b[0m\u001b[37m\u001b[0m \u001b[1m1s\u001b[0m 2ms/step - loss: 0.5992\n",
            "Epoch 14/50\n",
            "\u001b[1m519/519\u001b[0m \u001b[32m━━━━━━━━━━━━━━━━━━━━\u001b[0m\u001b[37m\u001b[0m \u001b[1m1s\u001b[0m 2ms/step - loss: 0.5832\n",
            "Epoch 15/50\n",
            "\u001b[1m519/519\u001b[0m \u001b[32m━━━━━━━━━━━━━━━━━━━━\u001b[0m\u001b[37m\u001b[0m \u001b[1m1s\u001b[0m 2ms/step - loss: 0.5665\n",
            "Epoch 16/50\n",
            "\u001b[1m519/519\u001b[0m \u001b[32m━━━━━━━━━━━━━━━━━━━━\u001b[0m\u001b[37m\u001b[0m \u001b[1m2s\u001b[0m 3ms/step - loss: 0.5503\n",
            "Epoch 17/50\n",
            "\u001b[1m519/519\u001b[0m \u001b[32m━━━━━━━━━━━━━━━━━━━━\u001b[0m\u001b[37m\u001b[0m \u001b[1m2s\u001b[0m 3ms/step - loss: 0.5353\n",
            "Epoch 18/50\n",
            "\u001b[1m519/519\u001b[0m \u001b[32m━━━━━━━━━━━━━━━━━━━━\u001b[0m\u001b[37m\u001b[0m \u001b[1m2s\u001b[0m 2ms/step - loss: 0.5193\n",
            "Epoch 19/50\n",
            "\u001b[1m519/519\u001b[0m \u001b[32m━━━━━━━━━━━━━━━━━━━━\u001b[0m\u001b[37m\u001b[0m \u001b[1m1s\u001b[0m 2ms/step - loss: 0.5022\n",
            "Epoch 20/50\n",
            "\u001b[1m519/519\u001b[0m \u001b[32m━━━━━━━━━━━━━━━━━━━━\u001b[0m\u001b[37m\u001b[0m \u001b[1m2s\u001b[0m 3ms/step - loss: 0.4868\n",
            "Epoch 21/50\n",
            "\u001b[1m519/519\u001b[0m \u001b[32m━━━━━━━━━━━━━━━━━━━━\u001b[0m\u001b[37m\u001b[0m \u001b[1m3s\u001b[0m 3ms/step - loss: 0.4676\n",
            "Epoch 22/50\n",
            "\u001b[1m519/519\u001b[0m \u001b[32m━━━━━━━━━━━━━━━━━━━━\u001b[0m\u001b[37m\u001b[0m \u001b[1m2s\u001b[0m 3ms/step - loss: 0.4517\n",
            "Epoch 23/50\n",
            "\u001b[1m519/519\u001b[0m \u001b[32m━━━━━━━━━━━━━━━━━━━━\u001b[0m\u001b[37m\u001b[0m \u001b[1m4s\u001b[0m 6ms/step - loss: 0.4337\n",
            "Epoch 24/50\n",
            "\u001b[1m519/519\u001b[0m \u001b[32m━━━━━━━━━━━━━━━━━━━━\u001b[0m\u001b[37m\u001b[0m \u001b[1m3s\u001b[0m 2ms/step - loss: 0.4179\n",
            "Epoch 25/50\n",
            "\u001b[1m519/519\u001b[0m \u001b[32m━━━━━━━━━━━━━━━━━━━━\u001b[0m\u001b[37m\u001b[0m \u001b[1m1s\u001b[0m 2ms/step - loss: 0.3989\n",
            "Epoch 26/50\n",
            "\u001b[1m519/519\u001b[0m \u001b[32m━━━━━━━━━━━━━━━━━━━━\u001b[0m\u001b[37m\u001b[0m \u001b[1m1s\u001b[0m 2ms/step - loss: 0.3818\n",
            "Epoch 27/50\n",
            "\u001b[1m519/519\u001b[0m \u001b[32m━━━━━━━━━━━━━━━━━━━━\u001b[0m\u001b[37m\u001b[0m \u001b[1m1s\u001b[0m 2ms/step - loss: 0.3625\n",
            "Epoch 28/50\n",
            "\u001b[1m519/519\u001b[0m \u001b[32m━━━━━━━━━━━━━━━━━━━━\u001b[0m\u001b[37m\u001b[0m \u001b[1m1s\u001b[0m 2ms/step - loss: 0.3457\n",
            "Epoch 29/50\n",
            "\u001b[1m519/519\u001b[0m \u001b[32m━━━━━━━━━━━━━━━━━━━━\u001b[0m\u001b[37m\u001b[0m \u001b[1m1s\u001b[0m 2ms/step - loss: 0.3262\n",
            "Epoch 30/50\n",
            "\u001b[1m519/519\u001b[0m \u001b[32m━━━━━━━━━━━━━━━━━━━━\u001b[0m\u001b[37m\u001b[0m \u001b[1m1s\u001b[0m 2ms/step - loss: 0.3105\n",
            "Epoch 31/50\n",
            "\u001b[1m519/519\u001b[0m \u001b[32m━━━━━━━━━━━━━━━━━━━━\u001b[0m\u001b[37m\u001b[0m \u001b[1m2s\u001b[0m 2ms/step - loss: 0.2903\n",
            "Epoch 32/50\n",
            "\u001b[1m519/519\u001b[0m \u001b[32m━━━━━━━━━━━━━━━━━━━━\u001b[0m\u001b[37m\u001b[0m \u001b[1m2s\u001b[0m 5ms/step - loss: 0.2712\n",
            "Epoch 33/50\n",
            "\u001b[1m519/519\u001b[0m \u001b[32m━━━━━━━━━━━━━━━━━━━━\u001b[0m\u001b[37m\u001b[0m \u001b[1m3s\u001b[0m 5ms/step - loss: 0.2523\n",
            "Epoch 34/50\n",
            "\u001b[1m519/519\u001b[0m \u001b[32m━━━━━━━━━━━━━━━━━━━━\u001b[0m\u001b[37m\u001b[0m \u001b[1m3s\u001b[0m 2ms/step - loss: 0.2326\n",
            "Epoch 35/50\n",
            "\u001b[1m519/519\u001b[0m \u001b[32m━━━━━━━━━━━━━━━━━━━━\u001b[0m\u001b[37m\u001b[0m \u001b[1m1s\u001b[0m 2ms/step - loss: 0.2119\n",
            "Epoch 36/50\n",
            "\u001b[1m519/519\u001b[0m \u001b[32m━━━━━━━━━━━━━━━━━━━━\u001b[0m\u001b[37m\u001b[0m \u001b[1m1s\u001b[0m 2ms/step - loss: 0.1936\n",
            "Epoch 37/50\n",
            "\u001b[1m519/519\u001b[0m \u001b[32m━━━━━━━━━━━━━━━━━━━━\u001b[0m\u001b[37m\u001b[0m \u001b[1m2s\u001b[0m 3ms/step - loss: 0.1735\n",
            "Epoch 38/50\n",
            "\u001b[1m519/519\u001b[0m \u001b[32m━━━━━━━━━━━━━━━━━━━━\u001b[0m\u001b[37m\u001b[0m \u001b[1m2s\u001b[0m 3ms/step - loss: 0.1529\n",
            "Epoch 39/50\n",
            "\u001b[1m519/519\u001b[0m \u001b[32m━━━━━━━━━━━━━━━━━━━━\u001b[0m\u001b[37m\u001b[0m \u001b[1m3s\u001b[0m 4ms/step - loss: 0.1322\n",
            "Epoch 40/50\n",
            "\u001b[1m519/519\u001b[0m \u001b[32m━━━━━━━━━━━━━━━━━━━━\u001b[0m\u001b[37m\u001b[0m \u001b[1m3s\u001b[0m 5ms/step - loss: 0.1107\n",
            "Epoch 41/50\n",
            "\u001b[1m519/519\u001b[0m \u001b[32m━━━━━━━━━━━━━━━━━━━━\u001b[0m\u001b[37m\u001b[0m \u001b[1m2s\u001b[0m 4ms/step - loss: 0.0903\n",
            "Epoch 42/50\n",
            "\u001b[1m519/519\u001b[0m \u001b[32m━━━━━━━━━━━━━━━━━━━━\u001b[0m\u001b[37m\u001b[0m \u001b[1m2s\u001b[0m 2ms/step - loss: 0.0690\n",
            "Epoch 43/50\n",
            "\u001b[1m519/519\u001b[0m \u001b[32m━━━━━━━━━━━━━━━━━━━━\u001b[0m\u001b[37m\u001b[0m \u001b[1m1s\u001b[0m 2ms/step - loss: 0.0466\n",
            "Epoch 44/50\n",
            "\u001b[1m519/519\u001b[0m \u001b[32m━━━━━━━━━━━━━━━━━━━━\u001b[0m\u001b[37m\u001b[0m \u001b[1m1s\u001b[0m 2ms/step - loss: 0.0252\n",
            "Epoch 45/50\n",
            "\u001b[1m519/519\u001b[0m \u001b[32m━━━━━━━━━━━━━━━━━━━━\u001b[0m\u001b[37m\u001b[0m \u001b[1m1s\u001b[0m 2ms/step - loss: 0.0024\n",
            "Epoch 46/50\n",
            "\u001b[1m519/519\u001b[0m \u001b[32m━━━━━━━━━━━━━━━━━━━━\u001b[0m\u001b[37m\u001b[0m \u001b[1m1s\u001b[0m 2ms/step - loss: -0.0180\n",
            "Epoch 47/50\n",
            "\u001b[1m519/519\u001b[0m \u001b[32m━━━━━━━━━━━━━━━━━━━━\u001b[0m\u001b[37m\u001b[0m \u001b[1m1s\u001b[0m 2ms/step - loss: -0.0441\n",
            "Epoch 48/50\n",
            "\u001b[1m519/519\u001b[0m \u001b[32m━━━━━━━━━━━━━━━━━━━━\u001b[0m\u001b[37m\u001b[0m \u001b[1m1s\u001b[0m 2ms/step - loss: -0.0661\n",
            "Epoch 49/50\n",
            "\u001b[1m519/519\u001b[0m \u001b[32m━━━━━━━━━━━━━━━━━━━━\u001b[0m\u001b[37m\u001b[0m \u001b[1m1s\u001b[0m 2ms/step - loss: -0.0888\n",
            "Epoch 50/50\n",
            "\u001b[1m519/519\u001b[0m \u001b[32m━━━━━━━━━━━━━━━━━━━━\u001b[0m\u001b[37m\u001b[0m \u001b[1m1s\u001b[0m 3ms/step - loss: -0.1109\n",
            "\u001b[1m4151/4151\u001b[0m \u001b[32m━━━━━━━━━━━━━━━━━━━━\u001b[0m\u001b[37m\u001b[0m \u001b[1m5s\u001b[0m 1ms/step\n"
          ]
        },
        {
          "output_type": "stream",
          "name": "stderr",
          "text": [
            "/usr/local/lib/python3.10/dist-packages/sklearn/cluster/_kmeans.py:870: FutureWarning: The default value of `n_init` will change from 10 to 'auto' in 1.4. Set the value of `n_init` explicitly to suppress the warning\n",
            "  warnings.warn(\n"
          ]
        }
      ]
    },
    {
      "cell_type": "markdown",
      "source": [
        "#silhouette score"
      ],
      "metadata": {
        "id": "MCufaRAY3Tef"
      }
    },
    {
      "cell_type": "markdown",
      "source": [
        "The Silhouette Score is a measure of how well each datapoint \\(x_i\\) lies within its assigned cluster. It ranges from -1 to 1, where a higher value indicates that the datapoint is well matched to its own cluster and poorly matched to neighboring clusters.\n",
        "\n",
        "In the context of your project, a Silhouette Score of 0.22227174 suggests that the datapoints (in this case, the base stations) are, on average, not very densely packed in their assigned clusters. This could mean that there might be some overlap between the clusters, or that the datapoints within each cluster are spread out.\n",
        "\n",
        "Here's a general guideline for interpreting the Silhouette Score:\n",
        "\n",
        "- Values close to 1 suggest that the datapoints are well clustered.\n",
        "- Values close to 0 suggest that the datapoints are on or very close to the decision boundary between two neighboring clusters.\n",
        "- Negative values suggest that those datapoints might have been assigned to the wrong cluster.\n",
        "\n",
        "So, in your case, a Silhouette Score of 0.22227174 suggests that there might be room for improving the clustering, perhaps by using a different number of clusters, using a different clustering algorithm, or by preprocessing the data differently."
      ],
      "metadata": {
        "id": "rKp2G14_3m1y"
      }
    },
    {
      "cell_type": "code",
      "source": [
        "# from sklearn.metrics import silhouette_score\n",
        "\n",
        "# # Compute the silhouette score\n",
        "# silhouette = silhouette_score(X_encoded, df['cluster'])\n",
        "\n",
        "# print('Silhouette Score:', silhouette)\n"
      ],
      "metadata": {
        "id": "yDLtqmNHz1_C"
      },
      "execution_count": 18,
      "outputs": []
    },
    {
      "cell_type": "markdown",
      "source": [
        "#SAVE MODEL\n",
        "This code is saving the trained models to disk so that they can be loaded and used later without needing to be retrained. Here’s a breakdown of what each line is doing:\n",
        "\n",
        "autoencoder.save('/content/drive/MyDrive/autoencoder_model.h5'): This line is saving the trained autoencoder model to a file named ‘autoencoder_model.h5’ in the directory ‘/content/drive/MyDrive’. The ‘.h5’ extension indicates that the model is being saved in the HDF5 format, which is a common format for storing large amounts of numerical data like the weights of a neural network.\n",
        "encoder.save('/content/drive/MyDrive/encoder_model.h5'): This line is saving the trained encoder model (which is part of the autoencoder) to a file named ‘encoder_model.h5’ in the same directory. Again, the model is being saved in the HDF5 format.\n",
        "import pickle: This line is importing the ‘pickle’ module, which is a Python module used for serializing (i.e., converting to a byte stream) and deserializing Python objects.\n",
        "with open('/content/drive/MyDrive/kmeans_model.pkl', 'wb') as f:: This line is opening a file named ‘kmeans_model.pkl’ in the directory ‘/content/drive/MyDrive’ in binary write mode (‘wb’). The ‘.pkl’ extension indicates that the file is a pickle file, which is a common format for serializing Python objects.\n",
        "pickle.dump(kmeans, f): This line is using the ‘dump’ function from the ‘pickle’ module to serialize the trained KMeans model and write it to the file.\n",
        "So, in summary, this code is saving the trained autoencoder, encoder, and KMeans models to disk so that they can be loaded and used later without needing to be retrained.\n"
      ],
      "metadata": {
        "id": "NCGLvJwj16C9"
      }
    },
    {
      "cell_type": "code",
      "source": [
        "# Save the trained models\n",
        "autoencoder.save('/content/drive/MyDrive/autoencoder_model.h5')\n",
        "encoder.save('/content/drive/MyDrive/encoder_model.h5')\n",
        "\n",
        "# Save the KMeans model\n",
        "import pickle\n",
        "with open('/content/drive/MyDrive/kmeans_model.pkl', 'wb') as f:\n",
        "    pickle.dump(kmeans, f)"
      ],
      "metadata": {
        "colab": {
          "base_uri": "https://localhost:8080/"
        },
        "id": "Fz-I_SPC17oe",
        "outputId": "3cddea72-a605-44a4-bcc9-3e86c05041ae"
      },
      "execution_count": 19,
      "outputs": [
        {
          "output_type": "stream",
          "name": "stderr",
          "text": [
            "WARNING:absl:You are saving your model as an HDF5 file via `model.save()` or `keras.saving.save_model(model)`. This file format is considered legacy. We recommend using instead the native Keras format, e.g. `model.save('my_model.keras')` or `keras.saving.save_model(model, 'my_model.keras')`. \n",
            "WARNING:absl:You are saving your model as an HDF5 file via `model.save()` or `keras.saving.save_model(model)`. This file format is considered legacy. We recommend using instead the native Keras format, e.g. `model.save('my_model.keras')` or `keras.saving.save_model(model, 'my_model.keras')`. \n"
          ]
        }
      ]
    },
    {
      "cell_type": "markdown",
      "source": [
        "# Group the data by cluster and calculate the mean of the features\n",
        "This code is calculating the mean (average) values of the features for each cluster and printing them out. These mean values can be considered as the “centers” of the clusters in the feature space.\n",
        "\n",
        "Here’s a breakdown of what each line is doing:\n",
        "\n",
        "cluster_centers = df.groupby('cluster')[features].mean(): This line is grouping the DataFrame df by the ‘cluster’ column, selecting the columns specified in features, and calculating the mean of these columns for each cluster. The result is a new DataFrame where the index is the cluster number and the columns are the mean values of the features for each cluster.\n",
        "print(cluster_centers): This line is printing the cluster_centers DataFrame. Each row in this DataFrame corresponds to a cluster, and the values in the row are the mean values of the features for that cluster.\n",
        "So, in summary, this code is providing a summary of each cluster by calculating and printing the mean values of the features for each cluster. This can help you understand the characteristics of each cluster."
      ],
      "metadata": {
        "id": "pnPgyuCI2dop"
      }
    },
    {
      "cell_type": "code",
      "source": [
        "# Group the data by cluster and calculate the mean of the features\n",
        "cluster_centers = df.groupby('cluster')[features].mean()\n",
        "\n",
        "# Print the cluster centers\n",
        "print(cluster_centers)\n"
      ],
      "metadata": {
        "colab": {
          "base_uri": "https://localhost:8080/"
        },
        "id": "RPbNWp2g2PXV",
        "outputId": "48ff82df-e3e2-4566-e31c-63f7c5f315a9"
      },
      "execution_count": 20,
      "outputs": [
        {
          "output_type": "stream",
          "name": "stdout",
          "text": [
            "         Longitude   Latitude       RSRP       RSRQ       SNR        CQI  \\\n",
            "cluster                                                                    \n",
            "0        -8.479674  51.900141 -88.581101 -13.540216 -1.235857   8.252456   \n",
            "1        -8.437100  51.913664 -81.827136 -10.161336  8.458620  12.610125   \n",
            "2        -8.398574  51.890772 -99.968956 -13.607344  2.028992  10.716020   \n",
            "\n",
            "              RSSI    DL_bitrate  UL_bitrate  \n",
            "cluster                                       \n",
            "0       -73.656635   1405.645304   20.350910  \n",
            "1       -71.152584  11518.900758   58.761302  \n",
            "2       -91.971379  26689.776187   72.991202  \n"
          ]
        }
      ]
    },
    {
      "cell_type": "markdown",
      "source": [
        "# Get the base stations in each cluster\n",
        "This code is iterating over each cluster created by the KMeans algorithm and printing out the base stations (represented by ‘CellID’) that belong to each cluster.\n",
        "\n",
        "Here’s a breakdown of what each line is doing:\n",
        "\n",
        "for i in range(kmeans.n_clusters): This line is starting a loop that will iterate over each cluster. The number of clusters is determined by the n_clusters attribute of the kmeans object.\n",
        "print(f\"Cluster {i}:\") This line is printing the cluster number for each iteration. The {i} inside the string will be replaced by the current cluster number.\n",
        "print(df[df['cluster'] == i]['CellID']) This line is printing the ‘CellID’ of the base stations that belong to the current cluster. It does this by subsetting the DataFrame df to only include rows where the ‘cluster’ column is equal to the current cluster number i, and then selecting the ‘CellID’ column.\n",
        "So, in summary, this code is printing out the base stations that belong to each cluster, which can help you understand how the base stations are grouped based on the KMeans clustering algorithm."
      ],
      "metadata": {
        "id": "nS_Yo5Or2ZQU"
      }
    },
    {
      "cell_type": "code",
      "source": [
        "# Get the base stations in each cluster\n",
        "for i in range(kmeans.n_clusters):\n",
        "    print(f\"Cluster {i}:\")\n",
        "    print(df[df['cluster'] == i]['CellID'])\n"
      ],
      "metadata": {
        "colab": {
          "base_uri": "https://localhost:8080/"
        },
        "id": "27qo0VJ22UPE",
        "outputId": "6967db7a-a26d-457b-f8d7-2e2d6d88401e"
      },
      "execution_count": 21,
      "outputs": [
        {
          "output_type": "stream",
          "name": "stdout",
          "text": [
            "Cluster 0:\n",
            "359       13\n",
            "575        2\n",
            "584       12\n",
            "622        2\n",
            "623        2\n",
            "          ..\n",
            "153431     2\n",
            "153436     2\n",
            "153437     2\n",
            "153438     2\n",
            "153439     2\n",
            "Name: CellID, Length: 35123, dtype: int64\n",
            "Cluster 1:\n",
            "0         12\n",
            "1         12\n",
            "2         12\n",
            "3         12\n",
            "4         12\n",
            "          ..\n",
            "165864    11\n",
            "165919    11\n",
            "166030    11\n",
            "166141    11\n",
            "166211    11\n",
            "Name: CellID, Length: 51873, dtype: int64\n",
            "Cluster 2:\n",
            "6         12\n",
            "7         12\n",
            "8         12\n",
            "10        12\n",
            "26        12\n",
            "          ..\n",
            "166652    11\n",
            "166653    11\n",
            "166654    11\n",
            "166655    11\n",
            "166656    11\n",
            "Name: CellID, Length: 45806, dtype: int64\n"
          ]
        }
      ]
    },
    {
      "cell_type": "markdown",
      "source": [
        "#GMM\n",
        "The choice between using KMeans or Gaussian Mixture Models (GMM) depends on the specific requirements of your project and the nature of your data.\n",
        "\n",
        "**KMeans** is a simple and fast algorithm that works well when the clusters are spherical and roughly the same size. It assigns each data point to exactly one cluster, which makes it easy to interpret the results. However, KMeans assumes that clusters are spherical and have similar variances, which might not always be the case.\n",
        "\n",
        "On the other hand, **GMM** is a more flexible method that allows for mixed membership of points to clusters. In GMM, a point belongs to each cluster to a different degree, based on the probability of the point being generated from each cluster's Gaussian distribution. This makes GMM more capable of handling clusters of different shapes and sizes. However, GMM is more computationally intensive than KMeans and might be harder to interpret due to the mixed membership of points to clusters.\n",
        "\n",
        "In your case, we started with KMeans because it's a simple and commonly used algorithm that serves as a good starting point. After applying KMeans, we used the Silhouette Score to evaluate the quality of the clusters. The Silhouette Score suggested that there might be some overlap between the clusters, which is why we considered using GMM to find the overlapping regions.\n",
        "\n",
        "Using GMM at this point allows us to take advantage of its ability to handle overlapping clusters, which might provide more insights into your data. However, whether to use KMeans, GMM, or any other clustering algorithm should be decided based on your specific requirements and the nature of your data.\n"
      ],
      "metadata": {
        "id": "qVfvs6TI5L_b"
      }
    },
    {
      "cell_type": "code",
      "source": [
        "from sklearn.mixture import GaussianMixture\n",
        "\n",
        "gmm = GaussianMixture(n_components=3)\n",
        "gmm.fit(X_encoded)\n",
        "\n",
        "# Get the cluster assignments for each data point\n",
        "df['cluster'] = gmm.predict(X_encoded)\n",
        "\n",
        "# Get the probabilities of each data point belonging to each cluster\n",
        "probs = gmm.predict_proba(X_encoded)\n"
      ],
      "metadata": {
        "id": "aXh74ehS35rO"
      },
      "execution_count": 22,
      "outputs": []
    },
    {
      "cell_type": "markdown",
      "source": [
        "#PROBABILITY OF EACH BASE STATION BEING OVERLAPPED BY ANOTHER CLUSTER\n",
        "The output you're seeing is a DataFrame that represents the probabilities of each data point (or row in your original dataset) belonging to each cluster.\n",
        "\n",
        "- The columns `Cluster 0`, `Cluster 1`, and `Cluster 2` represent the three clusters that your data points have been grouped into by the Gaussian Mixture Model (GMM).\n",
        "- The values in these columns are the probabilities that a given data point belongs to that cluster. For example, a value of `1.000000e+00` in `Cluster 0` for a particular row means that the GMM model is almost certain (with a probability of 1) that this data point belongs to `Cluster 0`.\n",
        "- The `CellID` column is just the `CellID` from your original dataset. It's included in this DataFrame for reference, so you can see which cell each row of probabilities corresponds to.\n",
        "\n",
        "The code you've posted calculates these probabilities using the `predict_proba` method of the GMM, which returns the probability of each sample belonging to each cluster. It then filters the DataFrame to only include rows where more than one cluster has a probability greater than a certain threshold (0.5 in your case), indicating that these base stations could potentially belong to more than one cluster.\n",
        "\n",
        "Please note that the probabilities are in scientific notation. For example, `1.000000e+00` is equivalent to 1, `3.566801e-67` is a very small number close to 0, and `5.992325e-168` is even closer to 0. ."
      ],
      "metadata": {
        "id": "BOhe1VeF61qi"
      }
    },
    {
      "cell_type": "code",
      "source": [
        "# Get the probabilities of each data point belonging to each cluster\n",
        "probs = gmm.predict_proba(X_encoded)\n",
        "\n",
        "# Convert the probabilities to a DataFrame\n",
        "probs_df = pd.DataFrame(probs, columns=[f'Cluster {i}' for i in range(kmeans.n_clusters)])\n",
        "\n",
        "# Add the 'CellID' column to the probabilities DataFrame\n",
        "probs_df['CellID'] = df['CellID']\n",
        "\n",
        "# Set a threshold for the minimum probability to consider a base station as part of a cluster\n",
        "threshold = 0.5  # You can adjust this value based on your requirements\n",
        "\n",
        "# Find the base stations that have a probability greater than the threshold for more than one cluster\n",
        "overlapping_base_stations = probs_df[probs_df.gt(threshold).sum(axis=1) > 1]\n",
        "\n",
        "print(overlapping_base_stations)\n"
      ],
      "metadata": {
        "colab": {
          "base_uri": "https://localhost:8080/"
        },
        "id": "ztrGK7tp5i64",
        "outputId": "e1c7789f-02b0-4283-b914-50a3defaf961"
      },
      "execution_count": 23,
      "outputs": [
        {
          "output_type": "stream",
          "name": "stdout",
          "text": [
            "           Cluster 0     Cluster 1      Cluster 2  CellID\n",
            "0       1.000000e+00  3.566801e-67   0.000000e+00    12.0\n",
            "1       1.000000e+00  1.529159e-62  5.992325e-168    12.0\n",
            "2       1.000000e+00  1.669245e-62  4.703392e-168    12.0\n",
            "3       1.000000e+00  1.667903e-62  4.696484e-168    12.0\n",
            "4       1.000000e+00  1.374847e-51  3.378590e-157    12.0\n",
            "...              ...           ...            ...     ...\n",
            "132797  4.226672e-28  0.000000e+00   1.000000e+00    11.0\n",
            "132798  6.375775e-28  0.000000e+00   1.000000e+00    11.0\n",
            "132799  2.584201e-28  0.000000e+00   1.000000e+00    11.0\n",
            "132800  1.000000e+00  0.000000e+00   0.000000e+00    11.0\n",
            "132801  1.000000e+00  0.000000e+00   0.000000e+00    11.0\n",
            "\n",
            "[114503 rows x 4 columns]\n"
          ]
        }
      ]
    },
    {
      "cell_type": "markdown",
      "source": [
        "In summary: for the base station 12 it belongs to cluster 0 because it has a probabilty of 1 , it definetely doesnt belong to cluster 1 because it has 0 probabilty but its getting interference from cluster 2 and the same for base station with cell id 11\n"
      ],
      "metadata": {
        "id": "-1zX2gNb_gWJ"
      }
    },
    {
      "cell_type": "markdown",
      "source": [
        "#Plotting the Training Loss of the Autoencoder"
      ],
      "metadata": {
        "id": "Tm5FBr8CEBOq"
      }
    },
    {
      "cell_type": "code",
      "source": [
        "import matplotlib.pyplot as plt\n",
        "\n",
        "# Assuming 'history' is the output of the fit function\n",
        "# history = autoencoder.fit(X, X, epochs=50, batch_size=256, shuffle=True)\n",
        "\n",
        "plt.plot(history.history['loss'])\n",
        "plt.title('Model loss')\n",
        "plt.ylabel('Loss')\n",
        "plt.xlabel('Epoch')\n",
        "plt.show()\n"
      ],
      "metadata": {
        "colab": {
          "base_uri": "https://localhost:8080/",
          "height": 472
        },
        "id": "j8588hFsCc2J",
        "outputId": "e4439434-1d7f-4d87-ca86-f122b0d030f8"
      },
      "execution_count": 24,
      "outputs": [
        {
          "output_type": "display_data",
          "data": {
            "text/plain": [
              "<Figure size 640x480 with 1 Axes>"
            ],
            "image/png": "[encoded data removed]"
          },
          "metadata": {}
        }
      ]
    },
    {
      "cell_type": "markdown",
      "source": [
        "#Silhouette Score for Different Numbers of Clusters"
      ],
      "metadata": {
        "id": "y6ObnZ2dEKC6"
      }
    },
    {
      "cell_type": "code",
      "source": [
        "from sklearn.metrics import silhouette_score\n",
        "\n",
        "silhouette_scores = []\n",
        "cluster_range = range(2, 10)  # Adjust based on your requirements\n",
        "\n",
        "for n_clusters in cluster_range:\n",
        "    kmeans = KMeans(n_clusters=n_clusters)\n",
        "    kmeans.fit(X_encoded)\n",
        "    silhouette_scores.append(silhouette_score(X_encoded, kmeans.labels_))\n",
        "\n",
        "plt.plot(cluster_range, silhouette_scores, marker='o')\n",
        "plt.xlabel('Number of clusters')\n",
        "plt.ylabel('Silhouette Score')\n",
        "plt.title('Silhouette Score vs Number of Clusters')\n",
        "plt.show()\n"
      ],
      "metadata": {
        "colab": {
          "base_uri": "https://localhost:8080/",
          "height": 445
        },
        "id": "He_ZpnAeEFBd",
        "outputId": "27cf9bf1-65fa-4a6f-9bcd-ee5bc18fa6eb"
      },
      "execution_count": 25,
      "outputs": [
        {
          "output_type": "stream",
          "name": "stderr",
          "text": [
            "/usr/local/lib/python3.10/dist-packages/sklearn/cluster/_kmeans.py:870: FutureWarning: The default value of `n_init` will change from 10 to 'auto' in 1.4. Set the value of `n_init` explicitly to suppress the warning\n",
            "  warnings.warn(\n",
            "/usr/local/lib/python3.10/dist-packages/sklearn/cluster/_kmeans.py:870: FutureWarning: The default value of `n_init` will change from 10 to 'auto' in 1.4. Set the value of `n_init` explicitly to suppress the warning\n",
            "  warnings.warn(\n"
          ]
        },
        {
          "output_type": "error",
          "ename": "KeyboardInterrupt",
          "evalue": "",
          "traceback": [
            "\u001b[0;31m---------------------------------------------------------------------------\u001b[0m",
            "\u001b[0;31mKeyboardInterrupt\u001b[0m                         Traceback (most recent call last)",
            "\u001b[0;32m<ipython-input-25-21d58c7eae70>\u001b[0m in \u001b[0;36m<cell line: 6>\u001b[0;34m()\u001b[0m\n\u001b[1;32m      7\u001b[0m     \u001b[0mkmeans\u001b[0m \u001b[0;34m=\u001b[0m \u001b[0mKMeans\u001b[0m\u001b[0;34m(\u001b[0m\u001b[0mn_clusters\u001b[0m\u001b[0;34m=\u001b[0m\u001b[0mn_clusters\u001b[0m\u001b[0;34m)\u001b[0m\u001b[0;34m\u001b[0m\u001b[0;34m\u001b[0m\u001b[0m\n\u001b[1;32m      8\u001b[0m     \u001b[0mkmeans\u001b[0m\u001b[0;34m.\u001b[0m\u001b[0mfit\u001b[0m\u001b[0;34m(\u001b[0m\u001b[0mX_encoded\u001b[0m\u001b[0;34m)\u001b[0m\u001b[0;34m\u001b[0m\u001b[0;34m\u001b[0m\u001b[0m\n\u001b[0;32m----> 9\u001b[0;31m     \u001b[0msilhouette_scores\u001b[0m\u001b[0;34m.\u001b[0m\u001b[0mappend\u001b[0m\u001b[0;34m(\u001b[0m\u001b[0msilhouette_score\u001b[0m\u001b[0;34m(\u001b[0m\u001b[0mX_encoded\u001b[0m\u001b[0;34m,\u001b[0m \u001b[0mkmeans\u001b[0m\u001b[0;34m.\u001b[0m\u001b[0mlabels_\u001b[0m\u001b[0;34m)\u001b[0m\u001b[0;34m)\u001b[0m\u001b[0;34m\u001b[0m\u001b[0;34m\u001b[0m\u001b[0m\n\u001b[0m\u001b[1;32m     10\u001b[0m \u001b[0;34m\u001b[0m\u001b[0m\n\u001b[1;32m     11\u001b[0m \u001b[0mplt\u001b[0m\u001b[0;34m.\u001b[0m\u001b[0mplot\u001b[0m\u001b[0;34m(\u001b[0m\u001b[0mcluster_range\u001b[0m\u001b[0;34m,\u001b[0m \u001b[0msilhouette_scores\u001b[0m\u001b[0;34m,\u001b[0m \u001b[0mmarker\u001b[0m\u001b[0;34m=\u001b[0m\u001b[0;34m'o'\u001b[0m\u001b[0;34m)\u001b[0m\u001b[0;34m\u001b[0m\u001b[0;34m\u001b[0m\u001b[0m\n",
            "\u001b[0;32m/usr/local/lib/python3.10/dist-packages/sklearn/metrics/cluster/_unsupervised.py\u001b[0m in \u001b[0;36msilhouette_score\u001b[0;34m(X, labels, metric, sample_size, random_state, **kwds)\u001b[0m\n\u001b[1;32m    115\u001b[0m         \u001b[0;32melse\u001b[0m\u001b[0;34m:\u001b[0m\u001b[0;34m\u001b[0m\u001b[0;34m\u001b[0m\u001b[0m\n\u001b[1;32m    116\u001b[0m             \u001b[0mX\u001b[0m\u001b[0;34m,\u001b[0m \u001b[0mlabels\u001b[0m \u001b[0;34m=\u001b[0m \u001b[0mX\u001b[0m\u001b[0;34m[\u001b[0m\u001b[0mindices\u001b[0m\u001b[0;34m]\u001b[0m\u001b[0;34m,\u001b[0m \u001b[0mlabels\u001b[0m\u001b[0;34m[\u001b[0m\u001b[0mindices\u001b[0m\u001b[0;34m]\u001b[0m\u001b[0;34m\u001b[0m\u001b[0;34m\u001b[0m\u001b[0m\n\u001b[0;32m--> 117\u001b[0;31m     \u001b[0;32mreturn\u001b[0m \u001b[0mnp\u001b[0m\u001b[0;34m.\u001b[0m\u001b[0mmean\u001b[0m\u001b[0;34m(\u001b[0m\u001b[0msilhouette_samples\u001b[0m\u001b[0;34m(\u001b[0m\u001b[0mX\u001b[0m\u001b[0;34m,\u001b[0m \u001b[0mlabels\u001b[0m\u001b[0;34m,\u001b[0m \u001b[0mmetric\u001b[0m\u001b[0;34m=\u001b[0m\u001b[0mmetric\u001b[0m\u001b[0;34m,\u001b[0m \u001b[0;34m**\u001b[0m\u001b[0mkwds\u001b[0m\u001b[0;34m)\u001b[0m\u001b[0;34m)\u001b[0m\u001b[0;34m\u001b[0m\u001b[0;34m\u001b[0m\u001b[0m\n\u001b[0m\u001b[1;32m    118\u001b[0m \u001b[0;34m\u001b[0m\u001b[0m\n\u001b[1;32m    119\u001b[0m \u001b[0;34m\u001b[0m\u001b[0m\n",
            "\u001b[0;32m/usr/local/lib/python3.10/dist-packages/sklearn/metrics/cluster/_unsupervised.py\u001b[0m in \u001b[0;36msilhouette_samples\u001b[0;34m(X, labels, metric, **kwds)\u001b[0m\n\u001b[1;32m    235\u001b[0m         \u001b[0m_silhouette_reduce\u001b[0m\u001b[0;34m,\u001b[0m \u001b[0mlabels\u001b[0m\u001b[0;34m=\u001b[0m\u001b[0mlabels\u001b[0m\u001b[0;34m,\u001b[0m \u001b[0mlabel_freqs\u001b[0m\u001b[0;34m=\u001b[0m\u001b[0mlabel_freqs\u001b[0m\u001b[0;34m\u001b[0m\u001b[0;34m\u001b[0m\u001b[0m\n\u001b[1;32m    236\u001b[0m     )\n\u001b[0;32m--> 237\u001b[0;31m     \u001b[0mresults\u001b[0m \u001b[0;34m=\u001b[0m \u001b[0mzip\u001b[0m\u001b[0;34m(\u001b[0m\u001b[0;34m*\u001b[0m\u001b[0mpairwise_distances_chunked\u001b[0m\u001b[0;34m(\u001b[0m\u001b[0mX\u001b[0m\u001b[0;34m,\u001b[0m \u001b[0mreduce_func\u001b[0m\u001b[0;34m=\u001b[0m\u001b[0mreduce_func\u001b[0m\u001b[0;34m,\u001b[0m \u001b[0;34m**\u001b[0m\u001b[0mkwds\u001b[0m\u001b[0;34m)\u001b[0m\u001b[0;34m)\u001b[0m\u001b[0;34m\u001b[0m\u001b[0;34m\u001b[0m\u001b[0m\n\u001b[0m\u001b[1;32m    238\u001b[0m     \u001b[0mintra_clust_dists\u001b[0m\u001b[0;34m,\u001b[0m \u001b[0minter_clust_dists\u001b[0m \u001b[0;34m=\u001b[0m \u001b[0mresults\u001b[0m\u001b[0;34m\u001b[0m\u001b[0;34m\u001b[0m\u001b[0m\n\u001b[1;32m    239\u001b[0m     \u001b[0mintra_clust_dists\u001b[0m \u001b[0;34m=\u001b[0m \u001b[0mnp\u001b[0m\u001b[0;34m.\u001b[0m\u001b[0mconcatenate\u001b[0m\u001b[0;34m(\u001b[0m\u001b[0mintra_clust_dists\u001b[0m\u001b[0;34m)\u001b[0m\u001b[0;34m\u001b[0m\u001b[0;34m\u001b[0m\u001b[0m\n",
            "\u001b[0;32m/usr/local/lib/python3.10/dist-packages/sklearn/metrics/pairwise.py\u001b[0m in \u001b[0;36mpairwise_distances_chunked\u001b[0;34m(X, Y, reduce_func, metric, n_jobs, working_memory, **kwds)\u001b[0m\n\u001b[1;32m   1865\u001b[0m         \u001b[0;32melse\u001b[0m\u001b[0;34m:\u001b[0m\u001b[0;34m\u001b[0m\u001b[0;34m\u001b[0m\u001b[0m\n\u001b[1;32m   1866\u001b[0m             \u001b[0mX_chunk\u001b[0m \u001b[0;34m=\u001b[0m \u001b[0mX\u001b[0m\u001b[0;34m[\u001b[0m\u001b[0msl\u001b[0m\u001b[0;34m]\u001b[0m\u001b[0;34m\u001b[0m\u001b[0;34m\u001b[0m\u001b[0m\n\u001b[0;32m-> 1867\u001b[0;31m         \u001b[0mD_chunk\u001b[0m \u001b[0;34m=\u001b[0m \u001b[0mpairwise_distances\u001b[0m\u001b[0;34m(\u001b[0m\u001b[0mX_chunk\u001b[0m\u001b[0;34m,\u001b[0m \u001b[0mY\u001b[0m\u001b[0;34m,\u001b[0m \u001b[0mmetric\u001b[0m\u001b[0;34m=\u001b[0m\u001b[0mmetric\u001b[0m\u001b[0;34m,\u001b[0m \u001b[0mn_jobs\u001b[0m\u001b[0;34m=\u001b[0m\u001b[0mn_jobs\u001b[0m\u001b[0;34m,\u001b[0m \u001b[0;34m**\u001b[0m\u001b[0mkwds\u001b[0m\u001b[0;34m)\u001b[0m\u001b[0;34m\u001b[0m\u001b[0;34m\u001b[0m\u001b[0m\n\u001b[0m\u001b[1;32m   1868\u001b[0m         if (X is Y or Y is None) and PAIRWISE_DISTANCE_FUNCTIONS.get(\n\u001b[1;32m   1869\u001b[0m             \u001b[0mmetric\u001b[0m\u001b[0;34m,\u001b[0m \u001b[0;32mNone\u001b[0m\u001b[0;34m\u001b[0m\u001b[0;34m\u001b[0m\u001b[0m\n",
            "\u001b[0;32m/usr/local/lib/python3.10/dist-packages/sklearn/metrics/pairwise.py\u001b[0m in \u001b[0;36mpairwise_distances\u001b[0;34m(X, Y, metric, n_jobs, force_all_finite, **kwds)\u001b[0m\n\u001b[1;32m   2037\u001b[0m         \u001b[0mfunc\u001b[0m \u001b[0;34m=\u001b[0m \u001b[0mpartial\u001b[0m\u001b[0;34m(\u001b[0m\u001b[0mdistance\u001b[0m\u001b[0;34m.\u001b[0m\u001b[0mcdist\u001b[0m\u001b[0;34m,\u001b[0m \u001b[0mmetric\u001b[0m\u001b[0;34m=\u001b[0m\u001b[0mmetric\u001b[0m\u001b[0;34m,\u001b[0m \u001b[0;34m**\u001b[0m\u001b[0mkwds\u001b[0m\u001b[0;34m)\u001b[0m\u001b[0;34m\u001b[0m\u001b[0;34m\u001b[0m\u001b[0m\n\u001b[1;32m   2038\u001b[0m \u001b[0;34m\u001b[0m\u001b[0m\n\u001b[0;32m-> 2039\u001b[0;31m     \u001b[0;32mreturn\u001b[0m \u001b[0m_parallel_pairwise\u001b[0m\u001b[0;34m(\u001b[0m\u001b[0mX\u001b[0m\u001b[0;34m,\u001b[0m \u001b[0mY\u001b[0m\u001b[0;34m,\u001b[0m \u001b[0mfunc\u001b[0m\u001b[0;34m,\u001b[0m \u001b[0mn_jobs\u001b[0m\u001b[0;34m,\u001b[0m \u001b[0;34m**\u001b[0m\u001b[0mkwds\u001b[0m\u001b[0;34m)\u001b[0m\u001b[0;34m\u001b[0m\u001b[0;34m\u001b[0m\u001b[0m\n\u001b[0m\u001b[1;32m   2040\u001b[0m \u001b[0;34m\u001b[0m\u001b[0m\n\u001b[1;32m   2041\u001b[0m \u001b[0;34m\u001b[0m\u001b[0m\n",
            "\u001b[0;32m/usr/local/lib/python3.10/dist-packages/sklearn/metrics/pairwise.py\u001b[0m in \u001b[0;36m_parallel_pairwise\u001b[0;34m(X, Y, func, n_jobs, **kwds)\u001b[0m\n\u001b[1;32m   1577\u001b[0m \u001b[0;34m\u001b[0m\u001b[0m\n\u001b[1;32m   1578\u001b[0m     \u001b[0;32mif\u001b[0m \u001b[0meffective_n_jobs\u001b[0m\u001b[0;34m(\u001b[0m\u001b[0mn_jobs\u001b[0m\u001b[0;34m)\u001b[0m \u001b[0;34m==\u001b[0m \u001b[0;36m1\u001b[0m\u001b[0;34m:\u001b[0m\u001b[0;34m\u001b[0m\u001b[0;34m\u001b[0m\u001b[0m\n\u001b[0;32m-> 1579\u001b[0;31m         \u001b[0;32mreturn\u001b[0m \u001b[0mfunc\u001b[0m\u001b[0;34m(\u001b[0m\u001b[0mX\u001b[0m\u001b[0;34m,\u001b[0m \u001b[0mY\u001b[0m\u001b[0;34m,\u001b[0m \u001b[0;34m**\u001b[0m\u001b[0mkwds\u001b[0m\u001b[0;34m)\u001b[0m\u001b[0;34m\u001b[0m\u001b[0;34m\u001b[0m\u001b[0m\n\u001b[0m\u001b[1;32m   1580\u001b[0m \u001b[0;34m\u001b[0m\u001b[0m\n\u001b[1;32m   1581\u001b[0m     \u001b[0;31m# enforce a threading backend to prevent data communication overhead\u001b[0m\u001b[0;34m\u001b[0m\u001b[0;34m\u001b[0m\u001b[0m\n",
            "\u001b[0;32m/usr/local/lib/python3.10/dist-packages/sklearn/metrics/pairwise.py\u001b[0m in \u001b[0;36meuclidean_distances\u001b[0;34m(X, Y, Y_norm_squared, squared, X_norm_squared)\u001b[0m\n\u001b[1;32m    326\u001b[0m             )\n\u001b[1;32m    327\u001b[0m \u001b[0;34m\u001b[0m\u001b[0m\n\u001b[0;32m--> 328\u001b[0;31m     \u001b[0;32mreturn\u001b[0m \u001b[0m_euclidean_distances\u001b[0m\u001b[0;34m(\u001b[0m\u001b[0mX\u001b[0m\u001b[0;34m,\u001b[0m \u001b[0mY\u001b[0m\u001b[0;34m,\u001b[0m \u001b[0mX_norm_squared\u001b[0m\u001b[0;34m,\u001b[0m \u001b[0mY_norm_squared\u001b[0m\u001b[0;34m,\u001b[0m \u001b[0msquared\u001b[0m\u001b[0;34m)\u001b[0m\u001b[0;34m\u001b[0m\u001b[0;34m\u001b[0m\u001b[0m\n\u001b[0m\u001b[1;32m    329\u001b[0m \u001b[0;34m\u001b[0m\u001b[0m\n\u001b[1;32m    330\u001b[0m \u001b[0;34m\u001b[0m\u001b[0m\n",
            "\u001b[0;32m/usr/local/lib/python3.10/dist-packages/sklearn/metrics/pairwise.py\u001b[0m in \u001b[0;36m_euclidean_distances\u001b[0;34m(X, Y, X_norm_squared, Y_norm_squared, squared)\u001b[0m\n\u001b[1;32m    364\u001b[0m         \u001b[0;31m# To minimize precision issues with float32, we compute the distance\u001b[0m\u001b[0;34m\u001b[0m\u001b[0;34m\u001b[0m\u001b[0m\n\u001b[1;32m    365\u001b[0m         \u001b[0;31m# matrix on chunks of X and Y upcast to float64\u001b[0m\u001b[0;34m\u001b[0m\u001b[0;34m\u001b[0m\u001b[0m\n\u001b[0;32m--> 366\u001b[0;31m         \u001b[0mdistances\u001b[0m \u001b[0;34m=\u001b[0m \u001b[0m_euclidean_distances_upcast\u001b[0m\u001b[0;34m(\u001b[0m\u001b[0mX\u001b[0m\u001b[0;34m,\u001b[0m \u001b[0mXX\u001b[0m\u001b[0;34m,\u001b[0m \u001b[0mY\u001b[0m\u001b[0;34m,\u001b[0m \u001b[0mYY\u001b[0m\u001b[0;34m)\u001b[0m\u001b[0;34m\u001b[0m\u001b[0;34m\u001b[0m\u001b[0m\n\u001b[0m\u001b[1;32m    367\u001b[0m     \u001b[0;32melse\u001b[0m\u001b[0;34m:\u001b[0m\u001b[0;34m\u001b[0m\u001b[0;34m\u001b[0m\u001b[0m\n\u001b[1;32m    368\u001b[0m         \u001b[0;31m# if dtype is already float64, no need to chunk and upcast\u001b[0m\u001b[0;34m\u001b[0m\u001b[0;34m\u001b[0m\u001b[0m\n",
            "\u001b[0;32m/usr/local/lib/python3.10/dist-packages/sklearn/metrics/pairwise.py\u001b[0m in \u001b[0;36m_euclidean_distances_upcast\u001b[0;34m(X, XX, Y, YY, batch_size)\u001b[0m\n\u001b[1;32m    570\u001b[0m                 \u001b[0md\u001b[0m \u001b[0;34m+=\u001b[0m \u001b[0mYY_chunk\u001b[0m\u001b[0;34m\u001b[0m\u001b[0;34m\u001b[0m\u001b[0m\n\u001b[1;32m    571\u001b[0m \u001b[0;34m\u001b[0m\u001b[0m\n\u001b[0;32m--> 572\u001b[0;31m             \u001b[0mdistances\u001b[0m\u001b[0;34m[\u001b[0m\u001b[0mx_slice\u001b[0m\u001b[0;34m,\u001b[0m \u001b[0my_slice\u001b[0m\u001b[0;34m]\u001b[0m \u001b[0;34m=\u001b[0m \u001b[0md\u001b[0m\u001b[0;34m.\u001b[0m\u001b[0mastype\u001b[0m\u001b[0;34m(\u001b[0m\u001b[0mnp\u001b[0m\u001b[0;34m.\u001b[0m\u001b[0mfloat32\u001b[0m\u001b[0;34m,\u001b[0m \u001b[0mcopy\u001b[0m\u001b[0;34m=\u001b[0m\u001b[0;32mFalse\u001b[0m\u001b[0;34m)\u001b[0m\u001b[0;34m\u001b[0m\u001b[0;34m\u001b[0m\u001b[0m\n\u001b[0m\u001b[1;32m    573\u001b[0m \u001b[0;34m\u001b[0m\u001b[0m\n\u001b[1;32m    574\u001b[0m     \u001b[0;32mreturn\u001b[0m \u001b[0mdistances\u001b[0m\u001b[0;34m\u001b[0m\u001b[0;34m\u001b[0m\u001b[0m\n",
            "\u001b[0;31mKeyboardInterrupt\u001b[0m: "
          ]
        }
      ]
    },
    {
      "cell_type": "markdown",
      "source": [
        "#Bar Plot of Cluster Centers"
      ],
      "metadata": {
        "id": "OtUHlVUCEMUF"
      }
    },
    {
      "cell_type": "code",
      "source": [
        "# Assuming 'cluster_centers' is a DataFrame containing the mean values of the features for each cluster\n",
        "# cluster_centers = df.groupby('cluster')[features].mean()\n",
        "\n",
        "cluster_centers.plot(kind='bar', figsize=(10, 6))\n",
        "plt.title('Cluster Centers')\n",
        "plt.show()\n"
      ],
      "metadata": {
        "colab": {
          "base_uri": "https://localhost:8080/",
          "height": 559
        },
        "id": "b2fSXKXSERok",
        "outputId": "e4dbf568-3a22-4166-da88-b1ae49d5b9e5"
      },
      "execution_count": 26,
      "outputs": [
        {
          "output_type": "display_data",
          "data": {
            "text/plain": [
              "<Figure size 1000x600 with 1 Axes>"
            ],
            "image/png": "[encoded data removed]"
          },
          "metadata": {}
        }
      ]
    },
    {
      "cell_type": "markdown",
      "source": [
        "#This script will calculate the Silhouette Score, Davies-Bouldin Index, Calinski-Harabasz Index, and Inertia for your clusters. It will also generate a scatter plot, dendrogram, heatmap of the distance matrix, and parallel coordinates plot for your data.\n",
        "\n"
      ],
      "metadata": {
        "id": "TI-SywdkGZo9"
      }
    },
    {
      "cell_type": "code",
      "source": [
        "import matplotlib.pyplot as plt\n",
        "from sklearn.metrics import silhouette_score, davies_bouldin_score, calinski_harabasz_score\n",
        "from scipy.cluster.hierarchy import dendrogram, linkage\n",
        "import seaborn as sns\n",
        "from pandas.plotting import parallel_coordinates\n",
        "\n",
        "# Calculate metrics\n",
        "davies_bouldin = davies_bouldin_score(X_encoded, df['cluster'])\n",
        "calinski_harabasz = calinski_harabasz_score(X_encoded, df['cluster'])\n",
        "inertia = kmeans.inertia_\n",
        "\n",
        "# Print metrics\n",
        "print(f'Davies-Bouldin Index: {davies_bouldin}')\n",
        "print(f'Calinski-Harabasz Index: {calinski_harabasz}')\n",
        "print(f'Inertia: {inertia}')\n",
        "\n",
        "# Scatter plot\n",
        "plt.figure(figsize=(10, 7))\n",
        "plt.scatter(X_encoded[:, 0], X_encoded[:, 1], c=df['cluster'])\n",
        "plt.xlabel('Encoded feature 1')  # Replace with your actual feature name\n",
        "plt.ylabel('Encoded feature 2')  # Replace with your actual feature name\n",
        "plt.title('Scatter Plot of Clusters')\n",
        "plt.show()\n",
        "\n",
        "# Dendrogram\n",
        "linked = linkage(X_encoded, 'single')\n",
        "plt.figure(figsize=(10, 7))\n",
        "dendrogram(linked)\n",
        "plt.title('Dendrogram of Clusters')\n",
        "plt.show()\n",
        "\n",
        "# Heatmap of distance matrix\n",
        "sns.heatmap(X_encoded)\n",
        "plt.title('Heatmap of Distance Matrix')\n",
        "plt.show()\n",
        "\n",
        "# Parallel coordinates plot\n",
        "plt.figure(figsize=(10, 7))\n",
        "parallel_coordinates(df[features + ['cluster']], 'cluster')\n",
        "plt.title('Parallel Coordinates Plot of Clusters')\n",
        "plt.show()\n",
        "\n",
        "# Bar plot of metrics\n",
        "metrics = {'Davies-Bouldin Index': davies_bouldin, 'Calinski-Harabasz Index': calinski_harabasz, 'Inertia': inertia}\n",
        "plt.bar(metrics.keys(), metrics.values())\n",
        "plt.title('Clustering Metrics')\n",
        "plt.show()\n"
      ],
      "metadata": {
        "colab": {
          "base_uri": "https://localhost:8080/",
          "height": 211
        },
        "id": "w7rHc-gZFVlg",
        "outputId": "1b596852-d6c2-4237-9966-e84d8573fbb8"
      },
      "execution_count": 1,
      "outputs": [
        {
          "output_type": "error",
          "ename": "NameError",
          "evalue": "name 'X_encoded' is not defined",
          "traceback": [
            "\u001b[0;31m---------------------------------------------------------------------------\u001b[0m",
            "\u001b[0;31mNameError\u001b[0m                                 Traceback (most recent call last)",
            "\u001b[0;32m<ipython-input-1-0458df48ea55>\u001b[0m in \u001b[0;36m<cell line: 8>\u001b[0;34m()\u001b[0m\n\u001b[1;32m      6\u001b[0m \u001b[0;34m\u001b[0m\u001b[0m\n\u001b[1;32m      7\u001b[0m \u001b[0;31m# Calculate metrics\u001b[0m\u001b[0;34m\u001b[0m\u001b[0;34m\u001b[0m\u001b[0m\n\u001b[0;32m----> 8\u001b[0;31m \u001b[0mdavies_bouldin\u001b[0m \u001b[0;34m=\u001b[0m \u001b[0mdavies_bouldin_score\u001b[0m\u001b[0;34m(\u001b[0m\u001b[0mX_encoded\u001b[0m\u001b[0;34m,\u001b[0m \u001b[0mdf\u001b[0m\u001b[0;34m[\u001b[0m\u001b[0;34m'cluster'\u001b[0m\u001b[0;34m]\u001b[0m\u001b[0;34m)\u001b[0m\u001b[0;34m\u001b[0m\u001b[0;34m\u001b[0m\u001b[0m\n\u001b[0m\u001b[1;32m      9\u001b[0m \u001b[0mcalinski_harabasz\u001b[0m \u001b[0;34m=\u001b[0m \u001b[0mcalinski_harabasz_score\u001b[0m\u001b[0;34m(\u001b[0m\u001b[0mX_encoded\u001b[0m\u001b[0;34m,\u001b[0m \u001b[0mdf\u001b[0m\u001b[0;34m[\u001b[0m\u001b[0;34m'cluster'\u001b[0m\u001b[0;34m]\u001b[0m\u001b[0;34m)\u001b[0m\u001b[0;34m\u001b[0m\u001b[0;34m\u001b[0m\u001b[0m\n\u001b[1;32m     10\u001b[0m \u001b[0minertia\u001b[0m \u001b[0;34m=\u001b[0m \u001b[0mkmeans\u001b[0m\u001b[0;34m.\u001b[0m\u001b[0minertia_\u001b[0m\u001b[0;34m\u001b[0m\u001b[0;34m\u001b[0m\u001b[0m\n",
            "\u001b[0;31mNameError\u001b[0m: name 'X_encoded' is not defined"
          ]
        }
      ]
    }
  ]
}