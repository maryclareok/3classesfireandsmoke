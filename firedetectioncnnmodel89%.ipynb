{
  "nbformat": 4,
  "nbformat_minor": 0,
  "metadata": {
    "colab": {
      "provenance": [],
      "gpuType": "T4",
      "mount_file_id": "1R-dOsaQ3uI0ni8q-qIsFRQ98u2kovqY9",
      "authorship_tag": "ABX9TyMCz47sxu0YzKkNeyU4+Cur",
      "include_colab_link": true
    },
    "kernelspec": {
      "name": "python3",
      "display_name": "Python 3"
    },
    "language_info": {
      "name": "python"
    },
    "accelerator": "GPU"
  },
  "cells": [
    {
      "cell_type": "markdown",
      "metadata": {
        "id": "view-in-github",
        "colab_type": "text"
      },
      "source": [
        "<a href=\"https://colab.research.google.com/github/maryclareok/3classesfireandsmoke/blob/main/firedetectioncnnmodel89%25.ipynb\" target=\"_parent\"><img src=\"https://colab.research.google.com/assets/colab-badge.svg\" alt=\"Open In Colab\"/></a>"
      ]
    },
    {
      "cell_type": "code",
      "source": [
        "from google.colab import drive\n",
        "drive.mount('/content/drive')"
      ],
      "metadata": {
        "colab": {
          "base_uri": "https://localhost:8080/"
        },
        "id": "4Bpp6K-0259A",
        "outputId": "d604df6a-cfce-4aef-efb5-29f8dbb1100e"
      },
      "execution_count": null,
      "outputs": [
        {
          "output_type": "stream",
          "name": "stdout",
          "text": [
            "Mounted at /content/drive\n"
          ]
        }
      ]
    },
    {
      "cell_type": "code",
      "source": [
        "# @title\n",
        "from tensorflow.keras.preprocessing.image import ImageDataGenerator\n",
        "from tensorflow.keras.layers import BatchNormalization\n",
        "datagen = ImageDataGenerator(\n",
        "    rescale=1./255,\n",
        "    rotation_range=20,\n",
        "    width_shift_range=0.2,\n",
        "    height_shift_range=0.2,\n",
        "    horizontal_flip=True)\n",
        "\n",
        "train_generator = datagen.flow_from_directory(\n",
        "    base_dir,\n",
        "    target_size=(64, 64),\n",
        "    batch_size=32,\n",
        "    class_mode='categorical',\n",
        "    classes=classes)\n",
        "\n",
        "# Define the model\n",
        "model_12 = Sequential()\n",
        "model_12.add(Conv2D(32, (5, 5), activation='relu', input_shape=(64, 64, 3)))\n",
        "model_12.add(MaxPooling2D(pool_size=(2, 2)))\n",
        "model_12.add(Conv2D(64, (4, 4), activation='relu'))\n",
        "model_12.add(MaxPooling2D(pool_size=(2, 2)))\n",
        "model_12.add(Flatten())\n",
        "model_12.add(Dense(100))\n",
        "model.add(Dense(64, activation='tanh'))  # 'tanh' activation\n",
        "model.add(Dropout(0.5))\n",
        "model_12.add(Dense(128, activation='relu'))\n",
        "model_12.add(Dense(4, activation='softmax'))\n",
        "\n",
        "# Compile the model\n",
        "model_12.compile(optimizer=tf.keras.optimizers.Adam(), loss='categorical_crossentropy', metrics=['accuracy'])\n",
        "\n",
        "# Train the model\n",
        "model_12.fit(train_generator, epochs=20, validation_data=validation_generator)"
      ],
      "metadata": {
        "colab": {
          "base_uri": "https://localhost:8080/"
        },
        "id": "I3LumyxSKhly",
        "outputId": "d0647044-633d-4967-c912-d912d0c9debe"
      },
      "execution_count": null,
      "outputs": [
        {
          "output_type": "stream",
          "name": "stdout",
          "text": [
            "Found 610 images belonging to 4 classes.\n",
            "Epoch 1/20\n",
            "20/20 [==============================] - 9s 384ms/step - loss: 0.7711 - accuracy: 0.6098 - val_loss: 0.4428 - val_accuracy: 0.7650\n",
            "Epoch 2/20\n",
            "20/20 [==============================] - 9s 437ms/step - loss: 0.5556 - accuracy: 0.7148 - val_loss: 0.5411 - val_accuracy: 0.6831\n",
            "Epoch 3/20\n",
            "20/20 [==============================] - 8s 431ms/step - loss: 0.4679 - accuracy: 0.7574 - val_loss: 0.3502 - val_accuracy: 0.8251\n",
            "Epoch 4/20\n",
            "20/20 [==============================] - 8s 386ms/step - loss: 0.4789 - accuracy: 0.7639 - val_loss: 0.3809 - val_accuracy: 0.7978\n",
            "Epoch 5/20\n",
            "20/20 [==============================] - 9s 451ms/step - loss: 0.4394 - accuracy: 0.7820 - val_loss: 0.3417 - val_accuracy: 0.8251\n",
            "Epoch 6/20\n",
            "20/20 [==============================] - 7s 371ms/step - loss: 0.3968 - accuracy: 0.8066 - val_loss: 0.3179 - val_accuracy: 0.8470\n",
            "Epoch 7/20\n",
            "20/20 [==============================] - 9s 456ms/step - loss: 0.3900 - accuracy: 0.8164 - val_loss: 0.3062 - val_accuracy: 0.8525\n",
            "Epoch 8/20\n",
            "20/20 [==============================] - 8s 415ms/step - loss: 0.4189 - accuracy: 0.7869 - val_loss: 0.2939 - val_accuracy: 0.8361\n",
            "Epoch 9/20\n",
            "20/20 [==============================] - 8s 419ms/step - loss: 0.4076 - accuracy: 0.7951 - val_loss: 0.3165 - val_accuracy: 0.8306\n",
            "Epoch 10/20\n",
            "20/20 [==============================] - 9s 449ms/step - loss: 0.4313 - accuracy: 0.8082 - val_loss: 0.5596 - val_accuracy: 0.7322\n",
            "Epoch 11/20\n",
            "20/20 [==============================] - 8s 359ms/step - loss: 0.4673 - accuracy: 0.7672 - val_loss: 0.3392 - val_accuracy: 0.8743\n",
            "Epoch 12/20\n",
            "20/20 [==============================] - 9s 435ms/step - loss: 0.3841 - accuracy: 0.8279 - val_loss: 0.3714 - val_accuracy: 0.8142\n",
            "Epoch 13/20\n",
            "20/20 [==============================] - 8s 372ms/step - loss: 0.3733 - accuracy: 0.8311 - val_loss: 0.3126 - val_accuracy: 0.8743\n",
            "Epoch 14/20\n",
            "20/20 [==============================] - 9s 455ms/step - loss: 0.4309 - accuracy: 0.7902 - val_loss: 0.3961 - val_accuracy: 0.7978\n",
            "Epoch 15/20\n",
            "20/20 [==============================] - 7s 376ms/step - loss: 0.4270 - accuracy: 0.8033 - val_loss: 0.3073 - val_accuracy: 0.8579\n",
            "Epoch 16/20\n",
            "20/20 [==============================] - 9s 434ms/step - loss: 0.3992 - accuracy: 0.8049 - val_loss: 0.2893 - val_accuracy: 0.8470\n",
            "Epoch 17/20\n",
            "20/20 [==============================] - 8s 410ms/step - loss: 0.4369 - accuracy: 0.7885 - val_loss: 0.2830 - val_accuracy: 0.8743\n",
            "Epoch 18/20\n",
            "20/20 [==============================] - 7s 381ms/step - loss: 0.3682 - accuracy: 0.8393 - val_loss: 0.2935 - val_accuracy: 0.8743\n",
            "Epoch 19/20\n",
            "20/20 [==============================] - 8s 411ms/step - loss: 0.3565 - accuracy: 0.8410 - val_loss: 0.3264 - val_accuracy: 0.8415\n",
            "Epoch 20/20\n",
            "20/20 [==============================] - 9s 443ms/step - loss: 0.3694 - accuracy: 0.8328 - val_loss: 0.2663 - val_accuracy: 0.8907\n"
          ]
        },
        {
          "output_type": "execute_result",
          "data": {
            "text/plain": [
              "<keras.src.callbacks.History at 0x7c08443591b0>"
            ]
          },
          "metadata": {},
          "execution_count": 140
        }
      ]
    },
    {
      "cell_type": "code",
      "source": [
        "# Load the model\n",
        "\n",
        "#improvement\n",
        "# Evaluate the model\n",
        "loss, accuracy = model_12.evaluate(validation_generator)\n",
        "\n",
        "print(f'Loss: {loss}')\n",
        "print(f'Accuracy: {accuracy}')\n"
      ],
      "metadata": {
        "colab": {
          "base_uri": "https://localhost:8080/"
        },
        "id": "C8TP2X1FNf19",
        "outputId": "96d3c17b-d8d2-4120-c8d3-b50dd35ed1d4"
      },
      "execution_count": null,
      "outputs": [
        {
          "output_type": "stream",
          "name": "stdout",
          "text": [
            "6/6 [==============================] - 2s 366ms/step - loss: 0.2663 - accuracy: 0.8907\n",
            "Loss: 0.26631081104278564\n",
            "Accuracy: 0.8907103538513184\n"
          ]
        }
      ]
    }
  ]
}